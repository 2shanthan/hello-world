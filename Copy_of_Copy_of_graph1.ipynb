{
  "nbformat": 4,
  "nbformat_minor": 0,
  "metadata": {
    "colab": {
      "name": "Copy of Copy of graph1.ipynb",
      "provenance": [],
      "collapsed_sections": [],
      "authorship_tag": "ABX9TyNSbluvfSwZdd95NPZakJ+Q",
      "include_colab_link": true
    },
    "kernelspec": {
      "name": "python3",
      "display_name": "Python 3"
    },
    "language_info": {
      "name": "python"
    }
  },
  "cells": [
    {
      "cell_type": "markdown",
      "metadata": {
        "id": "view-in-github",
        "colab_type": "text"
      },
      "source": [
        "<a href=\"https://colab.research.google.com/github/2shanthan/hello-world/blob/feature/Copy_of_Copy_of_graph1.ipynb\" target=\"_parent\"><img src=\"https://colab.research.google.com/assets/colab-badge.svg\" alt=\"Open In Colab\"/></a>"
      ]
    },
    {
      "cell_type": "code",
      "metadata": {
        "colab": {
          "base_uri": "https://localhost:8080/"
        },
        "id": "jO9sSL2F1xvF",
        "outputId": "ab9d7d3d-1f6e-40f2-c360-47a49b309d83"
      },
      "source": [
        "from google.colab import drive\n",
        "drive.mount('/content/drive')\n"
      ],
      "execution_count": null,
      "outputs": [
        {
          "output_type": "stream",
          "text": [
            "Mounted at /content/drive\n"
          ],
          "name": "stdout"
        }
      ]
    },
    {
      "cell_type": "code",
      "metadata": {
        "id": "z94AZUWC1_lf"
      },
      "source": [
        "import matplotlib.pyplot as plt\n",
        "import pandas as pd\n",
        "import numpy as np\n",
        "import matplotlib as mlp\n",
        "import os"
      ],
      "execution_count": null,
      "outputs": []
    },
    {
      "cell_type": "code",
      "metadata": {
        "colab": {
          "base_uri": "https://localhost:8080/",
          "height": 197
        },
        "id": "IlgeR2ai2YPw",
        "outputId": "382c3ff6-db0c-45d2-ae96-004979de325b"
      },
      "source": [
        "filename = ('/content/drive/MyDrive/PTDataScience/PandasForDataManipulation:/Harvested Crops Summary1.csv')\n",
        "df = pd.read_csv(filename)\n",
        "df.head()"
      ],
      "execution_count": null,
      "outputs": [
        {
          "output_type": "execute_result",
          "data": {
            "text/html": [
              "<div>\n",
              "<style scoped>\n",
              "    .dataframe tbody tr th:only-of-type {\n",
              "        vertical-align: middle;\n",
              "    }\n",
              "\n",
              "    .dataframe tbody tr th {\n",
              "        vertical-align: top;\n",
              "    }\n",
              "\n",
              "    .dataframe thead th {\n",
              "        text-align: right;\n",
              "    }\n",
              "</style>\n",
              "<table border=\"1\" class=\"dataframe\">\n",
              "  <thead>\n",
              "    <tr style=\"text-align: right;\">\n",
              "      <th></th>\n",
              "      <th>Area</th>\n",
              "      <th>Domain</th>\n",
              "      <th>Element</th>\n",
              "      <th>Item</th>\n",
              "      <th>Unit</th>\n",
              "      <th>Year</th>\n",
              "      <th>Value</th>\n",
              "    </tr>\n",
              "  </thead>\n",
              "  <tbody>\n",
              "    <tr>\n",
              "      <th>0</th>\n",
              "      <td>Africa</td>\n",
              "      <td>Crops</td>\n",
              "      <td>Area harvested</td>\n",
              "      <td>Cereals, Total</td>\n",
              "      <td>ha</td>\n",
              "      <td>1961</td>\n",
              "      <td>57159091</td>\n",
              "    </tr>\n",
              "    <tr>\n",
              "      <th>1</th>\n",
              "      <td>Africa</td>\n",
              "      <td>Crops</td>\n",
              "      <td>Area harvested</td>\n",
              "      <td>Citrus Fruit, Total</td>\n",
              "      <td>ha</td>\n",
              "      <td>1961</td>\n",
              "      <td>520855</td>\n",
              "    </tr>\n",
              "    <tr>\n",
              "      <th>2</th>\n",
              "      <td>Africa</td>\n",
              "      <td>Crops</td>\n",
              "      <td>Area harvested</td>\n",
              "      <td>Fibre Crops Primary</td>\n",
              "      <td>ha</td>\n",
              "      <td>1961</td>\n",
              "      <td>4477936</td>\n",
              "    </tr>\n",
              "    <tr>\n",
              "      <th>3</th>\n",
              "      <td>Africa</td>\n",
              "      <td>Crops</td>\n",
              "      <td>Area harvested</td>\n",
              "      <td>Fruit Primary</td>\n",
              "      <td>ha</td>\n",
              "      <td>1961</td>\n",
              "      <td>4497374</td>\n",
              "    </tr>\n",
              "    <tr>\n",
              "      <th>4</th>\n",
              "      <td>Africa</td>\n",
              "      <td>Crops</td>\n",
              "      <td>Area harvested</td>\n",
              "      <td>Oilcrops</td>\n",
              "      <td>ha</td>\n",
              "      <td>1961</td>\n",
              "      <td>16797051</td>\n",
              "    </tr>\n",
              "  </tbody>\n",
              "</table>\n",
              "</div>"
            ],
            "text/plain": [
              "     Area Domain         Element                 Item Unit  Year     Value\n",
              "0  Africa  Crops  Area harvested       Cereals, Total   ha  1961  57159091\n",
              "1  Africa  Crops  Area harvested  Citrus Fruit, Total   ha  1961    520855\n",
              "2  Africa  Crops  Area harvested  Fibre Crops Primary   ha  1961   4477936\n",
              "3  Africa  Crops  Area harvested        Fruit Primary   ha  1961   4497374\n",
              "4  Africa  Crops  Area harvested             Oilcrops   ha  1961  16797051"
            ]
          },
          "metadata": {
            "tags": []
          },
          "execution_count": 3
        }
      ]
    },
    {
      "cell_type": "code",
      "metadata": {
        "colab": {
          "base_uri": "https://localhost:8080/",
          "height": 312
        },
        "id": "2tfQKdgy5N5S",
        "outputId": "22f3e319-210b-44f0-eaa1-27b1abdd87d3"
      },
      "source": [
        "# how to take info for graph\n",
        "year_df = df.loc[:].groupby('Year')['Value'].sum()\n",
        "# type of graph\n",
        "plt.bar(year_df.index,year_df.values)\n",
        "#type of labels\n",
        "plt.xlabel('Year')\n",
        "plt.ylabel('Revenue per Billion')\n",
        "plt.title('Revenue of Crops Per Year')\n"
      ],
      "execution_count": null,
      "outputs": [
        {
          "output_type": "execute_result",
          "data": {
            "text/plain": [
              "Text(0.5, 1.0, 'Revenue of Crops Per Year')"
            ]
          },
          "metadata": {
            "tags": []
          },
          "execution_count": 12
        },
        {
          "output_type": "display_data",
          "data": {
            "image/png": "[encoded data removed]",
            "text/plain": [
              "<Figure size 432x288 with 1 Axes>"
            ]
          },
          "metadata": {
            "tags": [],
            "needs_background": "light"
          }
        }
      ]
    },
    {
      "cell_type": "code",
      "metadata": {
        "colab": {
          "base_uri": "https://localhost:8080/",
          "height": 278
        },
        "id": "IUd5UfFzdHKM",
        "outputId": "2b2038d5-2809-4b3b-9996-cdb81124dc29"
      },
      "source": [
        "item_df = df.loc[:].groupby('Item')['Value'].sum()\n",
        "plt.barh(item_df.index,item_df.values)\n",
        "plt.ylabel('Type of Crops')\n",
        "plt.xlabel('Revenue per Billion')\n",
        "plt.show()"
      ],
      "execution_count": null,
      "outputs": [
        {
          "output_type": "display_data",
          "data": {
            "image/png": "[encoded data removed]",
            "text/plain": [
              "<Figure size 432x288 with 1 Axes>"
            ]
          },
          "metadata": {
            "tags": [],
            "needs_background": "light"
          }
        }
      ]
    },
    {
      "cell_type": "code",
      "metadata": {
        "id": "nvmmv5Pw5qyz"
      },
      "source": [
        ""
      ],
      "execution_count": null,
      "outputs": []
    }
  ]
}